{
 "cells": [
  {
   "cell_type": "code",
   "execution_count": 1,
   "metadata": {},
   "outputs": [],
   "source": [
    "from sympy import Symbol\n",
    "x = Symbol('x')"
   ]
  },
  {
   "cell_type": "code",
   "execution_count": 3,
   "metadata": {},
   "outputs": [
    {
     "name": "stdout",
     "output_type": "stream",
     "text": [
      "sin(x) = 5*x - 2\n"
     ]
    }
   ],
   "source": [
    "from sympy import sympify\n",
    "left_hand_side = sympify(\"sin(x)\")\n",
    "right_hand_side = sympify(\"5*x - 2\")\n",
    "\n",
    "print(left_hand_side, '=', right_hand_side)"
   ]
  },
  {
   "cell_type": "code",
   "execution_count": 7,
   "metadata": {},
   "outputs": [
    {
     "name": "stdout",
     "output_type": "stream",
     "text": [
      "x asin(5*x - 2)\n"
     ]
    }
   ],
   "source": [
    "from sympy import asin\n",
    "left_hand_side = left_hand_side.subs(x, asin(x))\n",
    "\n",
    "right_hand_side = asin(right_hand_side)\n",
    "\n",
    "print(left_hand_side, right_hand_side)"
   ]
  },
  {
   "cell_type": "code",
   "execution_count": 9,
   "metadata": {},
   "outputs": [
    {
     "name": "stdout",
     "output_type": "stream",
     "text": [
      "x = asin(5*x - 2)\n"
     ]
    }
   ],
   "source": [
    "print(left_hand_side, '=', right_hand_side)"
   ]
  },
  {
   "cell_type": "code",
   "execution_count": 10,
   "metadata": {},
   "outputs": [
    {
     "name": "stdout",
     "output_type": "stream",
     "text": [
      "5/sqrt(1 - (5*x - 2)**2)\n"
     ]
    }
   ],
   "source": [
    "# So we assume that L.H.S is g(x)\n",
    "\n",
    "from sympy import diff\n",
    "derivative = diff(right_hand_side, x)\n",
    "print(derivative)"
   ]
  },
  {
   "cell_type": "code",
   "execution_count": 12,
   "metadata": {},
   "outputs": [
    {
     "name": "stdout",
     "output_type": "stream",
     "text": [
      "Equation will not converge\n"
     ]
    }
   ],
   "source": [
    "# Apply root\n",
    "root = 0.5\n",
    "\n",
    "convergence = derivative.subs(x, root)\n",
    "if convergence > 1:\n",
    "  print(\"Equation will not converge\")\n",
    "else:\n",
    "  print(\"Equation will converge\")"
   ]
  },
  {
   "cell_type": "code",
   "execution_count": 21,
   "metadata": {},
   "outputs": [
    {
     "name": "stdout",
     "output_type": "stream",
     "text": [
      "sin(x) = 5*x - 2\n"
     ]
    }
   ],
   "source": [
    "# Try with another re-arrangement\n",
    "\n",
    "left_hand_side = sympify(\"sin(x)\")\n",
    "right_hand_side = sympify(\"5*x - 2\")\n",
    "\n",
    "print(left_hand_side, '=', right_hand_side)"
   ]
  },
  {
   "cell_type": "code",
   "execution_count": 22,
   "metadata": {},
   "outputs": [
    {
     "name": "stdout",
     "output_type": "stream",
     "text": [
      "sin(x) + 2 = 5*x\n"
     ]
    }
   ],
   "source": [
    "right_hand_side += 2\n",
    "left_hand_side += 2\n",
    "\n",
    "print(left_hand_side, '=', right_hand_side)"
   ]
  },
  {
   "cell_type": "code",
   "execution_count": 23,
   "metadata": {},
   "outputs": [
    {
     "name": "stdout",
     "output_type": "stream",
     "text": [
      "sin(x)/5 + 2/5 = x\n"
     ]
    }
   ],
   "source": [
    "right_hand_side = right_hand_side / 5\n",
    "left_hand_side = left_hand_side / 5\n",
    "\n",
    "print(left_hand_side, '=', right_hand_side)\n"
   ]
  },
  {
   "cell_type": "code",
   "execution_count": 24,
   "metadata": {},
   "outputs": [
    {
     "name": "stdout",
     "output_type": "stream",
     "text": [
      "x = sin(x)/5 + 2/5\n"
     ]
    }
   ],
   "source": [
    "left_hand_side, right_hand_side = right_hand_side, left_hand_side\n",
    "print(left_hand_side, '=', right_hand_side)"
   ]
  },
  {
   "cell_type": "code",
   "execution_count": 25,
   "metadata": {},
   "outputs": [
    {
     "name": "stdout",
     "output_type": "stream",
     "text": [
      "cos(x)/5\n"
     ]
    }
   ],
   "source": [
    "# Let L.H.S be g(x)\n",
    "from sympy import diff\n",
    "derivative = diff(right_hand_side, x)\n",
    "print(derivative)"
   ]
  },
  {
   "cell_type": "code",
   "execution_count": 26,
   "metadata": {},
   "outputs": [
    {
     "name": "stdout",
     "output_type": "stream",
     "text": [
      "Equation will converge\n"
     ]
    }
   ],
   "source": [
    "# Apply root\n",
    "root = 0.5\n",
    "\n",
    "convergence = derivative.subs(x, root)\n",
    "if convergence > 1:\n",
    "  print(\"Equation will not converge\")\n",
    "else:\n",
    "  print(\"Equation will converge\")"
   ]
  },
  {
   "cell_type": "code",
   "execution_count": 37,
   "metadata": {},
   "outputs": [
    {
     "name": "stdout",
     "output_type": "stream",
     "text": [
      "Iteration: 0\n",
      "Root: 0.495885107720841\n",
      "Iteration: 1\n",
      "Root: 0.495162066438964\n",
      "Iteration: 2\n",
      "Root: 0.495034851685410\n",
      "Iteration: 3\n",
      "Root: 0.495012463875019\n",
      "The root is: 0.495012463875019\n"
     ]
    }
   ],
   "source": [
    "# Now start iteration\n",
    "iteration = 0\n",
    "root = 0.5\n",
    "\n",
    "last_iteration = 0.5\n",
    "while True:\n",
    "  next_iteration = right_hand_side.subs(x, last_iteration)\n",
    "  print(\"Iteration:\", iteration)\n",
    "  print(\"Root:\", next_iteration)\n",
    "\n",
    "  if last_iteration - next_iteration < 0.00005:\n",
    "    print(\"The root is:\", next_iteration)\n",
    "    break\n",
    "  \n",
    "  last_iteration = next_iteration\n",
    "  iteration += 1\n"
   ]
  }
 ],
 "metadata": {
  "kernelspec": {
   "display_name": "Python 3",
   "language": "python",
   "name": "python3"
  },
  "language_info": {
   "codemirror_mode": {
    "name": "ipython",
    "version": 3
   },
   "file_extension": ".py",
   "mimetype": "text/x-python",
   "name": "python",
   "nbconvert_exporter": "python",
   "pygments_lexer": "ipython3",
   "version": "3.9.6 (tags/v3.9.6:db3ff76, Jun 28 2021, 15:26:21) [MSC v.1929 64 bit (AMD64)]"
  },
  "orig_nbformat": 4,
  "vscode": {
   "interpreter": {
    "hash": "81794d4967e6c3204c66dcd87b604927b115b27c00565d3d43f05ba2f3a2cb0d"
   }
  }
 },
 "nbformat": 4,
 "nbformat_minor": 2
}
