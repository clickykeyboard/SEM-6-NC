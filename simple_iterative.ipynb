{
 "cells": [
  {
   "cell_type": "code",
   "execution_count": 1,
   "metadata": {},
   "outputs": [],
   "source": [
    "from sympy import Symbol\n",
    "x = Symbol('x')"
   ]
  },
  {
   "cell_type": "code",
   "execution_count": 3,
   "metadata": {},
   "outputs": [],
   "source": [
    "from sympy import sympify\n",
    "left_hand_side = sympify(\"sin(x)\")\n",
    "right_hand_side = sympify(\"5*x - 2\")\n",
    "\n",
    "print(left_hand_side, '=', right_hand_side)"
   ]
  },
  {
   "cell_type": "code",
   "execution_count": 7,
   "metadata": {},
   "outputs": [],
   "source": [
    "from sympy import asin\n",
    "left_hand_side = left_hand_side.subs(x, asin(x))\n",
    "\n",
    "right_hand_side = asin(right_hand_side)\n",
    "\n",
    "print(left_hand_side, right_hand_side)"
   ]
  },
  {
   "cell_type": "code",
   "execution_count": 9,
   "metadata": {},
   "outputs": [],
   "source": [
    "print(left_hand_side, '=', right_hand_side)"
   ]
  },
  {
   "cell_type": "code",
   "execution_count": 10,
   "metadata": {},
   "outputs": [],
   "source": [
    "# So we assume that L.H.S is g(x)\n",
    "\n",
    "from sympy import diff\n",
    "derivative = diff(right_hand_side, x)\n",
    "print(derivative)"
   ]
  },
  {
   "cell_type": "code",
   "execution_count": 12,
   "metadata": {},
   "outputs": [],
   "source": [
    "# Apply root\n",
    "root = 0.5\n",
    "\n",
    "convergence = derivative.subs(x, root)\n",
    "if convergence > 1:\n",
    "  print(\"Equation will not converge\")\n",
    "else:\n",
    "  print(\"Equation will converge\")"
   ]
  },
  {
   "cell_type": "code",
   "execution_count": 21,
   "metadata": {},
   "outputs": [],
   "source": [
    "# Try with another re-arrangement\n",
    "\n",
    "left_hand_side = sympify(\"sin(x)\")\n",
    "right_hand_side = sympify(\"5*x - 2\")\n",
    "\n",
    "print(left_hand_side, '=', right_hand_side)"
   ]
  },
  {
   "cell_type": "code",
   "execution_count": 22,
   "metadata": {},
   "outputs": [],
   "source": [
    "right_hand_side += 2\n",
    "left_hand_side += 2\n",
    "\n",
    "print(left_hand_side, '=', right_hand_side)"
   ]
  },
  {
   "cell_type": "code",
   "execution_count": 23,
   "metadata": {},
   "outputs": [],
   "source": [
    "right_hand_side = right_hand_side / 5\n",
    "left_hand_side = left_hand_side / 5\n",
    "\n",
    "print(left_hand_side, '=', right_hand_side)\n"
   ]
  },
  {
   "cell_type": "code",
   "execution_count": 24,
   "metadata": {},
   "outputs": [],
   "source": [
    "left_hand_side, right_hand_side = right_hand_side, left_hand_side\n",
    "print(left_hand_side, '=', right_hand_side)"
   ]
  },
  {
   "cell_type": "code",
   "execution_count": 25,
   "metadata": {},
   "outputs": [],
   "source": [
    "# Let L.H.S be g(x)\n",
    "from sympy import diff\n",
    "derivative = diff(right_hand_side, x)\n",
    "print(derivative)"
   ]
  },
  {
   "cell_type": "code",
   "execution_count": 26,
   "metadata": {},
   "outputs": [],
   "source": [
    "# Apply root\n",
    "root = 0.5\n",
    "\n",
    "convergence = derivative.subs(x, root)\n",
    "if convergence > 1:\n",
    "  print(\"Equation will not converge\")\n",
    "else:\n",
    "  print(\"Equation will converge\")"
   ]
  },
  {
   "cell_type": "code",
   "execution_count": 37,
   "metadata": {},
   "outputs": [],
   "source": [
    "# Now start iteration\n",
    "iteration = 0\n",
    "root = 0.5\n",
    "\n",
    "last_iteration = 0.5\n",
    "while True:\n",
    "  next_iteration = right_hand_side.subs(x, last_iteration)\n",
    "  print(\"Iteration:\", iteration)\n",
    "  print(\"Root:\", next_iteration)\n",
    "\n",
    "  if last_iteration - next_iteration < 0.00005:\n",
    "    print(\"The root is:\", next_iteration)\n",
    "    break\n",
    "  \n",
    "  last_iteration = next_iteration\n",
    "  iteration += 1\n"
   ]
  }
 ],
 "metadata": {
  "kernelspec": {
   "display_name": "Python 3",
   "language": "python",
   "name": "python3"
  },
  "language_info": {
   "codemirror_mode": {
    "name": "ipython",
    "version": 3
   },
   "file_extension": ".py",
   "mimetype": "text/x-python",
   "name": "python",
   "nbconvert_exporter": "python",
   "pygments_lexer": "ipython3",
   "version": "3.9.6 (tags/v3.9.6:db3ff76, Jun 28 2021, 15:26:21) [MSC v.1929 64 bit (AMD64)]"
  },
  "orig_nbformat": 4,
  "vscode": {
   "interpreter": {
    "hash": "81794d4967e6c3204c66dcd87b604927b115b27c00565d3d43f05ba2f3a2cb0d"
   }
  }
 },
 "nbformat": 4,
 "nbformat_minor": 2
}
